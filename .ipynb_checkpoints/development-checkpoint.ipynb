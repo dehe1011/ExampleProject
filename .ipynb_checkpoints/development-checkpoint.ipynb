{
 "cells": [
  {
   "cell_type": "code",
   "execution_count": 1,
   "metadata": {},
   "outputs": [],
   "source": [
    "from src import my_load"
   ]
  },
  {
   "cell_type": "code",
   "execution_count": 2,
   "metadata": {},
   "outputs": [
    {
     "data": {
      "text/plain": [
       "{'A': 1, 'B': 2, 'C': 3}"
      ]
     },
     "execution_count": 2,
     "metadata": {},
     "output_type": "execute_result"
    }
   ],
   "source": [
    "my_load()"
   ]
  },
  {
   "cell_type": "code",
   "execution_count": 4,
   "metadata": {},
   "outputs": [
    {
     "name": "stdout",
     "output_type": "stream",
     "text": [
      "Processing c:\\users\\dennis herb\\onedrive\\2_uni\\doktor\\python_projects\\exampleproject\\dist\\exampleproject_11-0.1.1.tar.gz\n",
      "  Preparing metadata (setup.py): started\n",
      "  Preparing metadata (setup.py): finished with status 'done'\n",
      "Building wheels for collected packages: ExampleProject-11\n",
      "  Building wheel for ExampleProject-11 (setup.py): started\n",
      "  Building wheel for ExampleProject-11 (setup.py): finished with status 'done'\n",
      "  Created wheel for ExampleProject-11: filename=ExampleProject_11-0.1.1-py3-none-any.whl size=2886 sha256=bf47b5bab24887e94fca241d8ee8f61964c7a0d25a83bb4e67f8ae067f7f4047\n",
      "  Stored in directory: c:\\users\\dennis herb\\appdata\\local\\pip\\cache\\wheels\\8b\\36\\92\\0cccd8e0a96998a65e0ce9da4a721cf16ff9e440c8ad3bfcdd\n",
      "Successfully built ExampleProject-11\n",
      "Installing collected packages: ExampleProject-11\n",
      "  Attempting uninstall: ExampleProject-11\n",
      "    Found existing installation: ExampleProject-11 0.1.1\n",
      "    Uninstalling ExampleProject-11-0.1.1:\n",
      "      Successfully uninstalled ExampleProject-11-0.1.1\n",
      "Successfully installed ExampleProject-11-0.1.1\n"
     ]
    }
   ],
   "source": [
    "!pip install dist/ExampleProject_11-0.1.1.tar.gz --force-reinstall"
   ]
  },
  {
   "cell_type": "code",
   "execution_count": 5,
   "metadata": {},
   "outputs": [
    {
     "name": "stdout",
     "output_type": "stream",
     "text": [
      "Name: ExampleProject-11\n",
      "Version: 0.1.1\n",
      "Summary: An example project for testing.\n",
      "Home-page: https://github.com/dehe1011/ExampleProject\n",
      "Author: Dennis Herb\n",
      "Author-email: dennis.herb@uni-ulm.de\n",
      "License: \n",
      "Location: C:\\Users\\Dennis Herb\\anaconda3\\Lib\\site-packages\n",
      "Requires: \n",
      "Required-by: \n"
     ]
    }
   ],
   "source": [
    "!pip show ExampleProject_11"
   ]
  },
  {
   "cell_type": "code",
   "execution_count": null,
   "metadata": {},
   "outputs": [],
   "source": []
  }
 ],
 "metadata": {
  "kernelspec": {
   "display_name": "Python 3 (ipykernel)",
   "language": "python",
   "name": "python3"
  },
  "language_info": {
   "codemirror_mode": {
    "name": "ipython",
    "version": 3
   },
   "file_extension": ".py",
   "mimetype": "text/x-python",
   "name": "python",
   "nbconvert_exporter": "python",
   "pygments_lexer": "ipython3",
   "version": "3.11.5"
  }
 },
 "nbformat": 4,
 "nbformat_minor": 4
}
